{
 "cells": [
  {
   "cell_type": "markdown",
   "metadata": {
    "tags": []
   },
   "source": [
    "## Final Project Submission\n",
    "\n",
    "Please fill out:\n",
    "* Student name: Beatrix Wong\n",
    "* Student pace: flex\n",
    "* Scheduled project review date/time: \n",
    "* Instructor name: \n",
    "* Blog post URL:\n"
   ]
  },
  {
   "cell_type": "markdown",
   "metadata": {},
   "source": [
    "### Data Preperation"
   ]
  },
  {
   "cell_type": "markdown",
   "metadata": {},
   "source": [
    "##### Importing and brief look at the data"
   ]
  },
  {
   "cell_type": "code",
   "execution_count": 230,
   "metadata": {},
   "outputs": [],
   "source": [
    "import pandas as pd\n",
    "import matplotlib.pyplot as plt"
   ]
  },
  {
   "cell_type": "code",
   "execution_count": 231,
   "metadata": {},
   "outputs": [
    {
     "name": "stdout",
     "output_type": "stream",
     "text": [
      "<class 'pandas.core.frame.DataFrame'>\n",
      "RangeIndex: 21597 entries, 0 to 21596\n",
      "Data columns (total 21 columns):\n",
      " #   Column         Non-Null Count  Dtype  \n",
      "---  ------         --------------  -----  \n",
      " 0   id             21597 non-null  int64  \n",
      " 1   date           21597 non-null  object \n",
      " 2   price          21597 non-null  float64\n",
      " 3   bedrooms       21597 non-null  int64  \n",
      " 4   bathrooms      21597 non-null  float64\n",
      " 5   sqft_living    21597 non-null  int64  \n",
      " 6   sqft_lot       21597 non-null  int64  \n",
      " 7   floors         21597 non-null  float64\n",
      " 8   waterfront     19221 non-null  object \n",
      " 9   view           21534 non-null  object \n",
      " 10  condition      21597 non-null  object \n",
      " 11  grade          21597 non-null  object \n",
      " 12  sqft_above     21597 non-null  int64  \n",
      " 13  sqft_basement  21597 non-null  object \n",
      " 14  yr_built       21597 non-null  int64  \n",
      " 15  yr_renovated   17755 non-null  float64\n",
      " 16  zipcode        21597 non-null  int64  \n",
      " 17  lat            21597 non-null  float64\n",
      " 18  long           21597 non-null  float64\n",
      " 19  sqft_living15  21597 non-null  int64  \n",
      " 20  sqft_lot15     21597 non-null  int64  \n",
      "dtypes: float64(6), int64(9), object(6)\n",
      "memory usage: 3.0+ MB\n"
     ]
    }
   ],
   "source": [
    "data= pd.read_csv('data/kc_house_data.csv')\n",
    "\n",
    "data.info()"
   ]
  },
  {
   "cell_type": "code",
   "execution_count": 232,
   "metadata": {},
   "outputs": [
    {
     "data": {
      "text/plain": [
       "Index(['id', 'date', 'price', 'bedrooms', 'bathrooms', 'sqft_living',\n",
       "       'sqft_lot', 'floors', 'waterfront', 'view', 'condition', 'grade',\n",
       "       'sqft_above', 'sqft_basement', 'yr_built', 'yr_renovated', 'zipcode',\n",
       "       'lat', 'long', 'sqft_living15', 'sqft_lot15'],\n",
       "      dtype='object')"
      ]
     },
     "execution_count": 232,
     "metadata": {},
     "output_type": "execute_result"
    }
   ],
   "source": [
    "data.columns"
   ]
  },
  {
   "cell_type": "markdown",
   "metadata": {},
   "source": [
    "##### Converting 'grade' and 'condition' into numerical values"
   ]
  },
  {
   "cell_type": "code",
   "execution_count": 233,
   "metadata": {},
   "outputs": [
    {
     "data": {
      "text/plain": [
       "{'10 Very Good',\n",
       " '11 Excellent',\n",
       " '12 Luxury',\n",
       " '13 Mansion',\n",
       " '3 Poor',\n",
       " '4 Low',\n",
       " '5 Fair',\n",
       " '6 Low Average',\n",
       " '7 Average',\n",
       " '8 Good',\n",
       " '9 Better'}"
      ]
     },
     "execution_count": 233,
     "metadata": {},
     "output_type": "execute_result"
    }
   ],
   "source": [
    "set(data['grade'])"
   ]
  },
  {
   "cell_type": "code",
   "execution_count": 234,
   "metadata": {},
   "outputs": [
    {
     "data": {
      "text/plain": [
       "{'Average', 'Fair', 'Good', 'Poor', 'Very Good'}"
      ]
     },
     "execution_count": 234,
     "metadata": {},
     "output_type": "execute_result"
    }
   ],
   "source": [
    "# turning grade into a number\n",
    "data['grade_ind']= data['grade'].map(lambda x: int(x.split()[0]))\n",
    "\n",
    "# investigate values of condition column\n",
    "set(data['condition'])"
   ]
  },
  {
   "cell_type": "code",
   "execution_count": 235,
   "metadata": {
    "tags": []
   },
   "outputs": [],
   "source": [
    "#encode condition into numbers, column= 'cond_ind'\n",
    "cond_map = dict(zip(['Poor','Fair','Average','Good','Very Good'],range(1,6)))\n",
    "\n",
    "data['cond_ind']=data['condition'].map(cond_map)"
   ]
  },
  {
   "cell_type": "markdown",
   "metadata": {},
   "source": [
    "##### Filling in missing data- waterfront"
   ]
  },
  {
   "cell_type": "code",
   "execution_count": 236,
   "metadata": {},
   "outputs": [
    {
     "data": {
      "text/plain": [
       "count     19221\n",
       "unique        2\n",
       "top          NO\n",
       "freq      19075\n",
       "Name: waterfront, dtype: object"
      ]
     },
     "execution_count": 236,
     "metadata": {},
     "output_type": "execute_result"
    }
   ],
   "source": [
    "data['waterfront'].describe()"
   ]
  },
  {
   "cell_type": "markdown",
   "metadata": {},
   "source": [
    "Looks like the vast majority of houses do not have a waterfront"
   ]
  },
  {
   "cell_type": "code",
   "execution_count": 237,
   "metadata": {},
   "outputs": [],
   "source": [
    "#fill in null value with the mode\n",
    "data['waterfront'].fillna('NO',inplace= True)\n",
    "#include waterfront as binary variable\n",
    "data['wtf_bin']=data['waterfront'].map({'NO':0,'YES':1})"
   ]
  },
  {
   "cell_type": "markdown",
   "metadata": {},
   "source": [
    "### Data Analysis"
   ]
  },
  {
   "cell_type": "code",
   "execution_count": 238,
   "metadata": {},
   "outputs": [
    {
     "data": {
      "text/html": [
       "<div>\n",
       "<style scoped>\n",
       "    .dataframe tbody tr th:only-of-type {\n",
       "        vertical-align: middle;\n",
       "    }\n",
       "\n",
       "    .dataframe tbody tr th {\n",
       "        vertical-align: top;\n",
       "    }\n",
       "\n",
       "    .dataframe thead th {\n",
       "        text-align: right;\n",
       "    }\n",
       "</style>\n",
       "<table border=\"1\" class=\"dataframe\">\n",
       "  <thead>\n",
       "    <tr style=\"text-align: right;\">\n",
       "      <th></th>\n",
       "      <th>cond_ind</th>\n",
       "      <th>grade_ind</th>\n",
       "      <th>bedrooms</th>\n",
       "      <th>bathrooms</th>\n",
       "      <th>floors</th>\n",
       "      <th>sqft_lot</th>\n",
       "      <th>sqft_living</th>\n",
       "      <th>price</th>\n",
       "      <th>wtf_bin</th>\n",
       "    </tr>\n",
       "  </thead>\n",
       "  <tbody>\n",
       "    <tr>\n",
       "      <th>cond_ind</th>\n",
       "      <td>1.000000</td>\n",
       "      <td>-0.146896</td>\n",
       "      <td>0.026496</td>\n",
       "      <td>-0.126479</td>\n",
       "      <td>-0.264075</td>\n",
       "      <td>-0.008830</td>\n",
       "      <td>-0.059445</td>\n",
       "      <td>0.036056</td>\n",
       "      <td>0.016648</td>\n",
       "    </tr>\n",
       "    <tr>\n",
       "      <th>grade_ind</th>\n",
       "      <td>-0.146896</td>\n",
       "      <td>1.000000</td>\n",
       "      <td>0.356563</td>\n",
       "      <td>0.665838</td>\n",
       "      <td>0.458794</td>\n",
       "      <td>0.114731</td>\n",
       "      <td>0.762779</td>\n",
       "      <td>0.667951</td>\n",
       "      <td>0.082818</td>\n",
       "    </tr>\n",
       "    <tr>\n",
       "      <th>bedrooms</th>\n",
       "      <td>0.026496</td>\n",
       "      <td>0.356563</td>\n",
       "      <td>1.000000</td>\n",
       "      <td>0.514508</td>\n",
       "      <td>0.177944</td>\n",
       "      <td>0.032471</td>\n",
       "      <td>0.578212</td>\n",
       "      <td>0.308787</td>\n",
       "      <td>-0.002127</td>\n",
       "    </tr>\n",
       "    <tr>\n",
       "      <th>bathrooms</th>\n",
       "      <td>-0.126479</td>\n",
       "      <td>0.665838</td>\n",
       "      <td>0.514508</td>\n",
       "      <td>1.000000</td>\n",
       "      <td>0.502582</td>\n",
       "      <td>0.088373</td>\n",
       "      <td>0.755758</td>\n",
       "      <td>0.525906</td>\n",
       "      <td>0.063629</td>\n",
       "    </tr>\n",
       "    <tr>\n",
       "      <th>floors</th>\n",
       "      <td>-0.264075</td>\n",
       "      <td>0.458794</td>\n",
       "      <td>0.177944</td>\n",
       "      <td>0.502582</td>\n",
       "      <td>1.000000</td>\n",
       "      <td>-0.004814</td>\n",
       "      <td>0.353953</td>\n",
       "      <td>0.256804</td>\n",
       "      <td>0.020797</td>\n",
       "    </tr>\n",
       "    <tr>\n",
       "      <th>sqft_lot</th>\n",
       "      <td>-0.008830</td>\n",
       "      <td>0.114731</td>\n",
       "      <td>0.032471</td>\n",
       "      <td>0.088373</td>\n",
       "      <td>-0.004814</td>\n",
       "      <td>1.000000</td>\n",
       "      <td>0.173453</td>\n",
       "      <td>0.089876</td>\n",
       "      <td>0.021459</td>\n",
       "    </tr>\n",
       "    <tr>\n",
       "      <th>sqft_living</th>\n",
       "      <td>-0.059445</td>\n",
       "      <td>0.762779</td>\n",
       "      <td>0.578212</td>\n",
       "      <td>0.755758</td>\n",
       "      <td>0.353953</td>\n",
       "      <td>0.173453</td>\n",
       "      <td>1.000000</td>\n",
       "      <td>0.701917</td>\n",
       "      <td>0.104637</td>\n",
       "    </tr>\n",
       "    <tr>\n",
       "      <th>price</th>\n",
       "      <td>0.036056</td>\n",
       "      <td>0.667951</td>\n",
       "      <td>0.308787</td>\n",
       "      <td>0.525906</td>\n",
       "      <td>0.256804</td>\n",
       "      <td>0.089876</td>\n",
       "      <td>0.701917</td>\n",
       "      <td>1.000000</td>\n",
       "      <td>0.264306</td>\n",
       "    </tr>\n",
       "    <tr>\n",
       "      <th>wtf_bin</th>\n",
       "      <td>0.016648</td>\n",
       "      <td>0.082818</td>\n",
       "      <td>-0.002127</td>\n",
       "      <td>0.063629</td>\n",
       "      <td>0.020797</td>\n",
       "      <td>0.021459</td>\n",
       "      <td>0.104637</td>\n",
       "      <td>0.264306</td>\n",
       "      <td>1.000000</td>\n",
       "    </tr>\n",
       "  </tbody>\n",
       "</table>\n",
       "</div>"
      ],
      "text/plain": [
       "             cond_ind  grade_ind  bedrooms  bathrooms    floors  sqft_lot  \\\n",
       "cond_ind     1.000000  -0.146896  0.026496  -0.126479 -0.264075 -0.008830   \n",
       "grade_ind   -0.146896   1.000000  0.356563   0.665838  0.458794  0.114731   \n",
       "bedrooms     0.026496   0.356563  1.000000   0.514508  0.177944  0.032471   \n",
       "bathrooms   -0.126479   0.665838  0.514508   1.000000  0.502582  0.088373   \n",
       "floors      -0.264075   0.458794  0.177944   0.502582  1.000000 -0.004814   \n",
       "sqft_lot    -0.008830   0.114731  0.032471   0.088373 -0.004814  1.000000   \n",
       "sqft_living -0.059445   0.762779  0.578212   0.755758  0.353953  0.173453   \n",
       "price        0.036056   0.667951  0.308787   0.525906  0.256804  0.089876   \n",
       "wtf_bin      0.016648   0.082818 -0.002127   0.063629  0.020797  0.021459   \n",
       "\n",
       "             sqft_living     price   wtf_bin  \n",
       "cond_ind       -0.059445  0.036056  0.016648  \n",
       "grade_ind       0.762779  0.667951  0.082818  \n",
       "bedrooms        0.578212  0.308787 -0.002127  \n",
       "bathrooms       0.755758  0.525906  0.063629  \n",
       "floors          0.353953  0.256804  0.020797  \n",
       "sqft_lot        0.173453  0.089876  0.021459  \n",
       "sqft_living     1.000000  0.701917  0.104637  \n",
       "price           0.701917  1.000000  0.264306  \n",
       "wtf_bin         0.104637  0.264306  1.000000  "
      ]
     },
     "execution_count": 238,
     "metadata": {},
     "output_type": "execute_result"
    }
   ],
   "source": [
    "# categorize the variables \n",
    "num_var= ['cond_ind','grade_ind','bedrooms','bathrooms','floors']\n",
    "cont_var=['sqft_lot','sqft_living','price']\n",
    "cat_var=['wtf_bin']\n",
    "\n",
    "# Investigate correlations\n",
    "data[num_var+cont_var+cat_var].corr()  "
   ]
  },
  {
   "cell_type": "markdown",
   "metadata": {},
   "source": [
    "sqft_living is the most strongly correlated with price"
   ]
  },
  {
   "cell_type": "code",
   "execution_count": null,
   "metadata": {},
   "outputs": [],
   "source": [
    "#investigate data distribution\n",
    "pd.plotting.scatter_matrix(data[cont_var+cat_var+num_var], figsize=(10,12));"
   ]
  },
  {
   "cell_type": "markdown",
   "metadata": {},
   "source": [
    "From looking at the graphs in the diagonals, the continuous variables looks very un-nomrally distributed, which violates the assumption of linear regression, I will create another set of data by transforming these variables to see if the resulting model would yield better results."
   ]
  },
  {
   "cell_type": "markdown",
   "metadata": {},
   "source": [
    "#### Transforming variables"
   ]
  },
  {
   "cell_type": "code",
   "execution_count": 20,
   "metadata": {
    "tags": []
   },
   "outputs": [],
   "source": [
    "import numpy as np\n",
    "\n",
    "#log transform cont. variables, normalize the distribution\n",
    "cont_log= pd.DataFrame([])\n",
    "for c in cont_var:\n",
    "    cont_log[c]= data[c].map(lambda x: np.log(x))\n",
    "\n",
    "#normalize features\n",
    "def normalize(feature):\n",
    "    return (feature - feature.mean()) / feature.std()\n",
    "cont_log_scaled= cont_log.apply(normalize)\n",
    "\n",
    "# new data set called ols_data to store transformed variables\n",
    "ols_data= pd.concat([data.drop(cont_var, axis=1),cont_log_scaled], axis=1)\n",
    "\n",
    "pd.plotting.scatter_matrix(cont_log_scaled, figsize=(10,12));"
   ]
  },
  {
   "cell_type": "markdown",
   "metadata": {},
   "source": [
    "After transforming the variables, they seem a lot more normally distributed"
   ]
  },
  {
   "cell_type": "markdown",
   "metadata": {},
   "source": [
    "#### Arriving at a Baseline Model\n",
    "For the baseline model, I will do a simple linear regression using the dependent variable that is the most strongly correlated with price- sqft_living\n",
    "I will run two models- one with the untransformed variable and the other with the transformed (normalised) version, and see which one yields better results."
   ]
  },
  {
   "cell_type": "code",
   "execution_count": 23,
   "metadata": {},
   "outputs": [],
   "source": [
    "from sklearn.linear_model import LinearRegression\n",
    "from sklearn.model_selection import cross_val_score"
   ]
  },
  {
   "cell_type": "code",
   "execution_count": 24,
   "metadata": {},
   "outputs": [
    {
     "data": {
      "text/plain": [
       "0.49092934612327843"
      ]
     },
     "execution_count": 24,
     "metadata": {},
     "output_type": "execute_result"
    }
   ],
   "source": [
    "# untransformed sqft_lot as baseline\n",
    "baselineI = LinearRegression()\n",
    "r2I = cross_val_score(baselineI, data[['sqft_living']], data['price'], cv=5)\n",
    "r2I.mean()"
   ]
  },
  {
   "cell_type": "code",
   "execution_count": 28,
   "metadata": {},
   "outputs": [
    {
     "data": {
      "text/plain": [
       "0.45331755286828307"
      ]
     },
     "execution_count": 28,
     "metadata": {},
     "output_type": "execute_result"
    }
   ],
   "source": [
    "#r2 value of baseline after log and normalization\n",
    "baseline_trans= LinearRegression()\n",
    "base_r2 = cross_val_score(baseline_trans,cont_log_scaled[['sqft_living']], cont_log_scaled[['price']], cv=5, scoring='r2')\n",
    "base_r2.mean()"
   ]
  },
  {
   "cell_type": "markdown",
   "metadata": {},
   "source": [
    "Since the untransformed basline model has a better R2 score, I will use that as my baseline model.\n",
    "#### The Baseline Model"
   ]
  },
  {
   "cell_type": "code",
   "execution_count": 228,
   "metadata": {
    "tags": []
   },
   "outputs": [
    {
     "data": {
      "image/png": "[encoded data removed]",
      "text/plain": [
       "<Figure size 432x288 with 1 Axes>"
      ]
     },
     "metadata": {
      "needs_background": "light"
     },
     "output_type": "display_data"
    }
   ],
   "source": [
    "baselineI.fit(data[['sqft_living']],data['price'])\n",
    "plt.scatter(data['sqft_living'], data['price'], color= 'thistle', alpha=0.3)\n",
    "plt.plot(data['sqft_living'],baselineI.predict(data[['sqft_living']]), color= 'slategrey')\n",
    "plt.title('Baseline Model')\n",
    "plt.ylabel('Price (USD)')\n",
    "plt.xlabel('Living Area (squarefoot)')\n",
    "plt.savefig('baseline.png')\n",
    "plt.show()\n"
   ]
  },
  {
   "cell_type": "markdown",
   "metadata": {},
   "source": [
    "### Multiple Linear Regression"
   ]
  },
  {
   "cell_type": "markdown",
   "metadata": {},
   "source": [
    "##### Model using original data"
   ]
  },
  {
   "cell_type": "code",
   "execution_count": 40,
   "metadata": {
    "tags": []
   },
   "outputs": [
    {
     "data": {
      "text/plain": [
       "0.5874811697282899"
      ]
     },
     "execution_count": 40,
     "metadata": {},
     "output_type": "execute_result"
    }
   ],
   "source": [
    "#r2 for original variables\n",
    "or_lr= LinearRegression()\n",
    "or_lr_r2= cross_val_score(or_lr, data[cont_var+num_var+cat_var].drop('price',axis=1), data['price'], cv=5).mean()\n",
    "or_lr_r2"
   ]
  },
  {
   "cell_type": "markdown",
   "metadata": {},
   "source": [
    "##### Model Using normalised data"
   ]
  },
  {
   "cell_type": "code",
   "execution_count": 45,
   "metadata": {},
   "outputs": [
    {
     "data": {
      "text/plain": [
       "False"
      ]
     },
     "execution_count": 45,
     "metadata": {},
     "output_type": "execute_result"
    }
   ],
   "source": [
    "#cross val for linreg with transformed data\n",
    "#check to see if r2 is bigger than that of the untransformed version\n",
    "linreg_I= LinearRegression()\n",
    "cross_val_score(linreg_I, ols_data[cont_var+num_var+cat_var].drop('price',axis=1),ols_data['price'],cv=5,scoring='r2').mean() > or_lr_r2 "
   ]
  },
  {
   "cell_type": "markdown",
   "metadata": {},
   "source": [
    "##### Model using one-hot encoding for categorical dependent variables (stored as num_var)"
   ]
  },
  {
   "cell_type": "code",
   "execution_count": 52,
   "metadata": {},
   "outputs": [],
   "source": [
    "# model with num_var as categories, add dummy variable\n",
    "dummy= pd.get_dummies(data=data[num_var].astype('str'), prefix=num_var, drop_first= True)\n",
    "\n",
    "X=pd.concat([data.drop(num_var,axis=1),dummy],axis=1)[list(dummy.columns)+cat_var+cont_var].drop('price',axis=1)\n",
    "y=data['price']\n",
    "\n",
    "# model for linear regression\n",
    "linreg_dum = LinearRegression()\n",
    "cross_val_score(linreg_dum, X,y,cv=5).mean()"
   ]
  },
  {
   "cell_type": "markdown",
   "metadata": {},
   "source": [
    "As shown above, this model has a really bad R2 score.\\\n",
    "So far, the model that uses original data and treats the categorical variables as numbers yields the best results."
   ]
  },
  {
   "cell_type": "markdown",
   "metadata": {},
   "source": [
    "#### checking for colinearity"
   ]
  },
  {
   "cell_type": "code",
   "execution_count": 53,
   "metadata": {},
   "outputs": [
    {
     "data": {
      "text/html": [
       "<div>\n",
       "<style scoped>\n",
       "    .dataframe tbody tr th:only-of-type {\n",
       "        vertical-align: middle;\n",
       "    }\n",
       "\n",
       "    .dataframe tbody tr th {\n",
       "        vertical-align: top;\n",
       "    }\n",
       "\n",
       "    .dataframe thead th {\n",
       "        text-align: right;\n",
       "    }\n",
       "</style>\n",
       "<table border=\"1\" class=\"dataframe\">\n",
       "  <thead>\n",
       "    <tr style=\"text-align: right;\">\n",
       "      <th></th>\n",
       "      <th>cond_ind</th>\n",
       "      <th>grade_ind</th>\n",
       "      <th>bedrooms</th>\n",
       "      <th>bathrooms</th>\n",
       "      <th>floors</th>\n",
       "    </tr>\n",
       "  </thead>\n",
       "  <tbody>\n",
       "    <tr>\n",
       "      <th>cond_ind</th>\n",
       "      <td>True</td>\n",
       "      <td>False</td>\n",
       "      <td>False</td>\n",
       "      <td>False</td>\n",
       "      <td>False</td>\n",
       "    </tr>\n",
       "    <tr>\n",
       "      <th>grade_ind</th>\n",
       "      <td>False</td>\n",
       "      <td>True</td>\n",
       "      <td>False</td>\n",
       "      <td>False</td>\n",
       "      <td>False</td>\n",
       "    </tr>\n",
       "    <tr>\n",
       "      <th>bedrooms</th>\n",
       "      <td>False</td>\n",
       "      <td>False</td>\n",
       "      <td>True</td>\n",
       "      <td>False</td>\n",
       "      <td>False</td>\n",
       "    </tr>\n",
       "    <tr>\n",
       "      <th>bathrooms</th>\n",
       "      <td>False</td>\n",
       "      <td>False</td>\n",
       "      <td>False</td>\n",
       "      <td>True</td>\n",
       "      <td>False</td>\n",
       "    </tr>\n",
       "    <tr>\n",
       "      <th>floors</th>\n",
       "      <td>False</td>\n",
       "      <td>False</td>\n",
       "      <td>False</td>\n",
       "      <td>False</td>\n",
       "      <td>True</td>\n",
       "    </tr>\n",
       "  </tbody>\n",
       "</table>\n",
       "</div>"
      ],
      "text/plain": [
       "           cond_ind  grade_ind  bedrooms  bathrooms  floors\n",
       "cond_ind       True      False     False      False   False\n",
       "grade_ind     False       True     False      False   False\n",
       "bedrooms      False      False      True      False   False\n",
       "bathrooms     False      False     False       True   False\n",
       "floors        False      False     False      False    True"
      ]
     },
     "execution_count": 53,
     "metadata": {},
     "output_type": "execute_result"
    }
   ],
   "source": [
    "np.absolute(data[num_var].corr())>=0.75"
   ]
  },
  {
   "cell_type": "code",
   "execution_count": 54,
   "metadata": {},
   "outputs": [
    {
     "data": {
      "text/html": [
       "<div>\n",
       "<style scoped>\n",
       "    .dataframe tbody tr th:only-of-type {\n",
       "        vertical-align: middle;\n",
       "    }\n",
       "\n",
       "    .dataframe tbody tr th {\n",
       "        vertical-align: top;\n",
       "    }\n",
       "\n",
       "    .dataframe thead th {\n",
       "        text-align: right;\n",
       "    }\n",
       "</style>\n",
       "<table border=\"1\" class=\"dataframe\">\n",
       "  <thead>\n",
       "    <tr style=\"text-align: right;\">\n",
       "      <th></th>\n",
       "      <th>sqft_lot</th>\n",
       "      <th>sqft_living</th>\n",
       "      <th>price</th>\n",
       "    </tr>\n",
       "  </thead>\n",
       "  <tbody>\n",
       "    <tr>\n",
       "      <th>sqft_lot</th>\n",
       "      <td>True</td>\n",
       "      <td>False</td>\n",
       "      <td>False</td>\n",
       "    </tr>\n",
       "    <tr>\n",
       "      <th>sqft_living</th>\n",
       "      <td>False</td>\n",
       "      <td>True</td>\n",
       "      <td>False</td>\n",
       "    </tr>\n",
       "    <tr>\n",
       "      <th>price</th>\n",
       "      <td>False</td>\n",
       "      <td>False</td>\n",
       "      <td>True</td>\n",
       "    </tr>\n",
       "  </tbody>\n",
       "</table>\n",
       "</div>"
      ],
      "text/plain": [
       "             sqft_lot  sqft_living  price\n",
       "sqft_lot         True        False  False\n",
       "sqft_living     False         True  False\n",
       "price           False        False   True"
      ]
     },
     "execution_count": 54,
     "metadata": {},
     "output_type": "execute_result"
    }
   ],
   "source": [
    "np.absolute(data[cont_var].corr()) >= 0.75"
   ]
  },
  {
   "cell_type": "markdown",
   "metadata": {},
   "source": [
    "Conclusion: no significant colinearity, no further action needed"
   ]
  },
  {
   "cell_type": "code",
   "execution_count": 56,
   "metadata": {},
   "outputs": [
    {
     "data": {
      "text/plain": [
       "0.5874811697282899"
      ]
     },
     "execution_count": 56,
     "metadata": {},
     "output_type": "execute_result"
    }
   ],
   "source": [
    "#best r2 score so far:\n",
    "or_lr_r2"
   ]
  },
  {
   "cell_type": "markdown",
   "metadata": {},
   "source": [
    "### The Final Model"
   ]
  },
  {
   "cell_type": "code",
   "execution_count": 46,
   "metadata": {
    "tags": []
   },
   "outputs": [
    {
     "data": {
      "text/html": [
       "<table class=\"simpletable\">\n",
       "<caption>OLS Regression Results</caption>\n",
       "<tr>\n",
       "  <th>Dep. Variable:</th>          <td>price</td>      <th>  R-squared:         </th>  <td>   0.591</td>  \n",
       "</tr>\n",
       "<tr>\n",
       "  <th>Model:</th>                   <td>OLS</td>       <th>  Adj. R-squared:    </th>  <td>   0.591</td>  \n",
       "</tr>\n",
       "<tr>\n",
       "  <th>Method:</th>             <td>Least Squares</td>  <th>  F-statistic:       </th>  <td>   3901.</td>  \n",
       "</tr>\n",
       "<tr>\n",
       "  <th>Date:</th>             <td>Wed, 30 Nov 2022</td> <th>  Prob (F-statistic):</th>   <td>  0.00</td>   \n",
       "</tr>\n",
       "<tr>\n",
       "  <th>Time:</th>                 <td>17:52:27</td>     <th>  Log-Likelihood:    </th> <td>-2.9773e+05</td>\n",
       "</tr>\n",
       "<tr>\n",
       "  <th>No. Observations:</th>      <td> 21597</td>      <th>  AIC:               </th>  <td>5.955e+05</td> \n",
       "</tr>\n",
       "<tr>\n",
       "  <th>Df Residuals:</th>          <td> 21588</td>      <th>  BIC:               </th>  <td>5.956e+05</td> \n",
       "</tr>\n",
       "<tr>\n",
       "  <th>Df Model:</th>              <td>     8</td>      <th>                     </th>      <td> </td>     \n",
       "</tr>\n",
       "<tr>\n",
       "  <th>Covariance Type:</th>      <td>nonrobust</td>    <th>                     </th>      <td> </td>     \n",
       "</tr>\n",
       "</table>\n",
       "<table class=\"simpletable\">\n",
       "<tr>\n",
       "       <td></td>          <th>coef</th>     <th>std err</th>      <th>t</th>      <th>P>|t|</th>  <th>[0.025</th>    <th>0.975]</th>  \n",
       "</tr>\n",
       "<tr>\n",
       "  <th>Intercept</th>   <td> -7.24e+05</td> <td> 1.76e+04</td> <td>  -41.090</td> <td> 0.000</td> <td>-7.59e+05</td> <td> -6.9e+05</td>\n",
       "</tr>\n",
       "<tr>\n",
       "  <th>cond_ind</th>    <td> 5.931e+04</td> <td> 2564.940</td> <td>   23.123</td> <td> 0.000</td> <td> 5.43e+04</td> <td> 6.43e+04</td>\n",
       "</tr>\n",
       "<tr>\n",
       "  <th>grade_ind</th>   <td> 1.061e+05</td> <td> 2272.473</td> <td>   46.677</td> <td> 0.000</td> <td> 1.02e+05</td> <td> 1.11e+05</td>\n",
       "</tr>\n",
       "<tr>\n",
       "  <th>bedrooms</th>    <td>-3.866e+04</td> <td> 2201.663</td> <td>  -17.557</td> <td> 0.000</td> <td> -4.3e+04</td> <td>-3.43e+04</td>\n",
       "</tr>\n",
       "<tr>\n",
       "  <th>bathrooms</th>   <td>-1.156e+04</td> <td> 3525.074</td> <td>   -3.280</td> <td> 0.001</td> <td>-1.85e+04</td> <td>-4653.839</td>\n",
       "</tr>\n",
       "<tr>\n",
       "  <th>floors</th>      <td>-2.062e+04</td> <td> 3634.665</td> <td>   -5.674</td> <td> 0.000</td> <td>-2.77e+04</td> <td>-1.35e+04</td>\n",
       "</tr>\n",
       "<tr>\n",
       "  <th>wtf_bin</th>     <td> 8.186e+05</td> <td> 1.97e+04</td> <td>   41.579</td> <td> 0.000</td> <td>  7.8e+05</td> <td> 8.57e+05</td>\n",
       "</tr>\n",
       "<tr>\n",
       "  <th>sqft_living</th> <td>  209.0878</td> <td>    3.498</td> <td>   59.766</td> <td> 0.000</td> <td>  202.231</td> <td>  215.945</td>\n",
       "</tr>\n",
       "<tr>\n",
       "  <th>sqft_lot</th>    <td>   -0.3323</td> <td>    0.039</td> <td>   -8.417</td> <td> 0.000</td> <td>   -0.410</td> <td>   -0.255</td>\n",
       "</tr>\n",
       "</table>\n",
       "<table class=\"simpletable\">\n",
       "<tr>\n",
       "  <th>Omnibus:</th>       <td>15280.876</td> <th>  Durbin-Watson:     </th>  <td>   1.981</td> \n",
       "</tr>\n",
       "<tr>\n",
       "  <th>Prob(Omnibus):</th>  <td> 0.000</td>   <th>  Jarque-Bera (JB):  </th> <td>794926.842</td>\n",
       "</tr>\n",
       "<tr>\n",
       "  <th>Skew:</th>           <td> 2.837</td>   <th>  Prob(JB):          </th>  <td>    0.00</td> \n",
       "</tr>\n",
       "<tr>\n",
       "  <th>Kurtosis:</th>       <td>32.175</td>   <th>  Cond. No.          </th>  <td>5.43e+05</td> \n",
       "</tr>\n",
       "</table><br/><br/>Notes:<br/>[1] Standard Errors assume that the covariance matrix of the errors is correctly specified.<br/>[2] The condition number is large, 5.43e+05. This might indicate that there are<br/>strong multicollinearity or other numerical problems."
      ],
      "text/plain": [
       "<class 'statsmodels.iolib.summary.Summary'>\n",
       "\"\"\"\n",
       "                            OLS Regression Results                            \n",
       "==============================================================================\n",
       "Dep. Variable:                  price   R-squared:                       0.591\n",
       "Model:                            OLS   Adj. R-squared:                  0.591\n",
       "Method:                 Least Squares   F-statistic:                     3901.\n",
       "Date:                Wed, 30 Nov 2022   Prob (F-statistic):               0.00\n",
       "Time:                        17:52:27   Log-Likelihood:            -2.9773e+05\n",
       "No. Observations:               21597   AIC:                         5.955e+05\n",
       "Df Residuals:                   21588   BIC:                         5.956e+05\n",
       "Df Model:                           8                                         \n",
       "Covariance Type:            nonrobust                                         \n",
       "===============================================================================\n",
       "                  coef    std err          t      P>|t|      [0.025      0.975]\n",
       "-------------------------------------------------------------------------------\n",
       "Intercept    -7.24e+05   1.76e+04    -41.090      0.000   -7.59e+05    -6.9e+05\n",
       "cond_ind     5.931e+04   2564.940     23.123      0.000    5.43e+04    6.43e+04\n",
       "grade_ind    1.061e+05   2272.473     46.677      0.000    1.02e+05    1.11e+05\n",
       "bedrooms    -3.866e+04   2201.663    -17.557      0.000    -4.3e+04   -3.43e+04\n",
       "bathrooms   -1.156e+04   3525.074     -3.280      0.001   -1.85e+04   -4653.839\n",
       "floors      -2.062e+04   3634.665     -5.674      0.000   -2.77e+04   -1.35e+04\n",
       "wtf_bin      8.186e+05   1.97e+04     41.579      0.000     7.8e+05    8.57e+05\n",
       "sqft_living   209.0878      3.498     59.766      0.000     202.231     215.945\n",
       "sqft_lot       -0.3323      0.039     -8.417      0.000      -0.410      -0.255\n",
       "==============================================================================\n",
       "Omnibus:                    15280.876   Durbin-Watson:                   1.981\n",
       "Prob(Omnibus):                  0.000   Jarque-Bera (JB):           794926.842\n",
       "Skew:                           2.837   Prob(JB):                         0.00\n",
       "Kurtosis:                      32.175   Cond. No.                     5.43e+05\n",
       "==============================================================================\n",
       "\n",
       "Notes:\n",
       "[1] Standard Errors assume that the covariance matrix of the errors is correctly specified.\n",
       "[2] The condition number is large, 5.43e+05. This might indicate that there are\n",
       "strong multicollinearity or other numerical problems.\n",
       "\"\"\""
      ]
     },
     "execution_count": 46,
     "metadata": {},
     "output_type": "execute_result"
    }
   ],
   "source": [
    "#best model information\n",
    "from statsmodels.formula.api import ols\n",
    "outcome = 'price'\n",
    "x_cols = num_var+cat_var+ ['sqft_living','sqft_lot']\n",
    "predictors = '+'.join(x_cols)\n",
    "formula = outcome + '~' + predictors\n",
    "model = ols(formula=formula, data= data).fit()\n",
    "model.summary()"
   ]
  },
  {
   "cell_type": "markdown",
   "metadata": {},
   "source": [
    "#### Model Discussion\n",
    "\n",
    "After experienting with the baseline model, normalising the distribution of variables, \n",
    "and treating discrete variables categorically by one-hot encoding them, the model of untransformed \n",
    "indepedent variables yield the highest r2 score measured by cross-validation, meaning it is best able to \n",
    "account for the variability of the data points.\\\n",
    "However, the data has a significant degree of positive skewness and kurtosis, the former\n",
    "meaning the data is not normally distributed, with the median and mode higher than the mean, and the \n",
    "latter meaning there are many outliers that cannot be explained by the linear regression model.\\ \n",
    "Moreover, the data violates the two assumptions of linear regression- homoscedasticity and normality,\n",
    "which negatively impacts the reliability of the predictions.\n"
   ]
  },
  {
   "cell_type": "markdown",
   "metadata": {},
   "source": [
    "### Three coefficients\n",
    "Taking into acount the most significant coefficients and practicality when it comes to house rennovations, the three most useful variables are condition, grade, and squarefoot living respectively"
   ]
  },
  {
   "cell_type": "code",
   "execution_count": 96,
   "metadata": {},
   "outputs": [],
   "source": [
    "variables= ['cond_ind', 'grade_ind', 'sqft_living']"
   ]
  },
  {
   "cell_type": "markdown",
   "metadata": {},
   "source": [
    "To enhance the accuracy of the model, I will take the avergae of 5 train-test splits"
   ]
  },
  {
   "cell_type": "code",
   "execution_count": 128,
   "metadata": {},
   "outputs": [],
   "source": [
    "from sklearn.metrics import r2_score\n",
    "from sklearn.model_selection import train_test_split"
   ]
  },
  {
   "cell_type": "code",
   "execution_count": 147,
   "metadata": {},
   "outputs": [],
   "source": [
    "X= data[cont_var+num_var+cat_var].drop('price',axis=1)\n",
    "y= data['price']\n",
    "\n",
    "X.columns"
   ]
  },
  {
   "cell_type": "code",
   "execution_count": 148,
   "metadata": {},
   "outputs": [],
   "source": [
    "#top 3 coefficients, R2, and y-intercept for the model from 5 train-test splits, stored into lists\n",
    "coef_cond_ls = []\n",
    "coef_gr_ls=[]\n",
    "coef_sql_ls=[]\n",
    "inter_ls=[]\n",
    "r2_ls=[]\n",
    "for i in range(0,5):\n",
    "    linreg= LinearRegression()\n",
    "    X_train, X_test, y_train, y_test = train_test_split(X, y, test_size= 0.2)\n",
    "    linreg.fit(X_train, y_train)\n",
    "    coef_cond_ls.append(linreg.coef_[2])\n",
    "    coef_gr_ls.append(linreg.coef_[3])\n",
    "    coef_sql_ls.append(linreg.coef_[1])\n",
    "    inter_ls.append(linreg.intercept_)\n",
    "    r2_ls.append(r2_score(y_test, linreg.predict(X_test)))"
   ]
  },
  {
   "cell_type": "code",
   "execution_count": 149,
   "metadata": {},
   "outputs": [],
   "source": [
    "#taking the average of the values\n",
    "r2= np.array(r2_ls).mean()\n",
    "cond_coef= np.array(coef_cond_ls).mean()\n",
    "grade_coef= np.array(coef_gr_ls).mean()\n",
    "sqft_liv_coef= np.array(coef_sql_ls).mean()\n",
    "intercept= np.array(inter_ls).mean()"
   ]
  },
  {
   "cell_type": "code",
   "execution_count": 99,
   "metadata": {},
   "outputs": [],
   "source": [
    "var_co= [cond_coef, grade_coef,sqft_liv_coef]"
   ]
  },
  {
   "cell_type": "markdown",
   "metadata": {},
   "source": [
    "#### Model Summary"
   ]
  },
  {
   "cell_type": "code",
   "execution_count": 175,
   "metadata": {},
   "outputs": [
    {
     "name": "stdout",
     "output_type": "stream",
     "text": [
      "For every unit increase in building condition, the price increases by an average of 59472.8 dollars.\n",
      "For every unit increase in building grade, the price increases by an average of 106323.2 dollars.\n",
      "For every unit increase in squarefoot living area, the price increases by an average of 208.3 dollars.\n",
      "The y-intercept is -726563.9 dollars\n"
     ]
    }
   ],
   "source": [
    "\n",
    "for i in range(0,3):\n",
    "    print('For every unit increase in {}, the price increases by an average of {} dollars.'.format(titles[i], var_co[i].round(1)))\n",
    "print('The y-intercept is {} dollars'.format(intercept.round(1)))"
   ]
  },
  {
   "cell_type": "markdown",
   "metadata": {},
   "source": [
    "#### Visualisations\n",
    "I have plotted graphs to show the correlation between the price and the three respective variables, and the predicted price according the the model coefficients."
   ]
  },
  {
   "cell_type": "code",
   "execution_count": 229,
   "metadata": {},
   "outputs": [
    {
     "data": {
      "image/png": "[encoded data removed]",
      "text/plain": [
       "<Figure size 432x288 with 1 Axes>"
      ]
     },
     "metadata": {
      "needs_background": "light"
     },
     "output_type": "display_data"
    },
    {
     "data": {
      "image/png": "[encoded data removed]",
      "text/plain": [
       "<Figure size 432x288 with 1 Axes>"
      ]
     },
     "metadata": {
      "needs_background": "light"
     },
     "output_type": "display_data"
    },
    {
     "data": {
      "image/png": "[encoded data removed]",
      "text/plain": [
       "<Figure size 432x288 with 1 Axes>"
      ]
     },
     "metadata": {
      "needs_background": "light"
     },
     "output_type": "display_data"
    }
   ],
   "source": [
    "titles= ['Building Condition', 'Building Grade', 'Squarefoot Living Area']\n",
    "for i,c in enumerate(variables):\n",
    "    fig, ax= plt.subplots()\n",
    "    x= data[variables[i]]\n",
    "    yy= x*var_co[i] + intercept\n",
    "    ax.plot(x,yy, color= 'skyblue', label= 'Predicted Increase')\n",
    "    plt.scatter(data[c], data['price'], color ='pink', alpha= 0.3 )\n",
    "    lrc= LinearRegression()\n",
    "    lrc.fit( data[[variables[i]]], data['price'])\n",
    "    ax.plot(x, lrc.predict(data[[variables[i]]]), color= 'lightseagreen', label= 'correlation')\n",
    "    plt.title('{} and Price'.format(titles[i]))\n",
    "    plt.xlabel(titles[i])\n",
    "    plt.ylabel('Price (USD)')\n",
    "    leg= ax.legend()\n",
    "    plt.savefig('{}.png'.format(variables[i]))\n",
    "    plt.show()"
   ]
  },
  {
   "cell_type": "markdown",
   "metadata": {},
   "source": [
    "### Recommendations"
   ]
  },
  {
   "cell_type": "markdown",
   "metadata": {
    "tags": []
   },
   "source": [
    "\n",
    "#### Increase building condition\n",
    "Building condition has to do with the maintenance of the house.\n",
    "When doing rennovations, aim to increasing the life expectancy of the hosue upgrading old or deteriorating structures.  \n"
   ]
  },
  {
   "cell_type": "markdown",
   "metadata": {},
   "source": [
    "#### Increase building grade\n",
    "\n",
    "Building grade is related to the architecture and design of the house, both interior and exterior.\n",
    "This includes the aesthetic of the architecture, and the quality of the material used in the building.\n",
    "The basic requirement is to meet the building code, and the grade can be further increased by including custom designs and added amenities, such as:\n",
    "* solid woods\n",
    "* bathroom fixtures\n",
    "* marble entry ways\n",
    "* wood trim\n",
    "* high quality cabinet work "
   ]
  },
  {
   "cell_type": "markdown",
   "metadata": {},
   "source": [
    "#### Increase squarefoot living area\n",
    "\n",
    "Living area is the area of the house exlcuding the walls.\n",
    "When rennovating, living area could be increased by removing walls or adding extra rooms.\n"
   ]
  }
 ],
 "metadata": {
  "kernelspec": {
   "display_name": "Python 3 (ipykernel)",
   "language": "python",
   "name": "python3"
  },
  "language_info": {
   "codemirror_mode": {
    "name": "ipython",
    "version": 3
   },
   "file_extension": ".py",
   "mimetype": "text/x-python",
   "name": "python",
   "nbconvert_exporter": "python",
   "pygments_lexer": "ipython3",
   "version": "3.9.12"
  }
 },
 "nbformat": 4,
 "nbformat_minor": 4
}
